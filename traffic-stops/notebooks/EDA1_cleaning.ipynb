{
 "cells": [
  {
   "cell_type": "code",
   "execution_count": 1,
   "metadata": {},
   "outputs": [],
   "source": [
    "%matplotlib inline\n",
    "import pandas as pd\n",
    "import numpy as np\n",
    "import seaborn as sns"
   ]
  },
  {
   "cell_type": "markdown",
   "metadata": {},
   "source": [
    "# SDPD Traffic Stops Data: initial EDA\n",
    "\n",
    "This notebook contains an initial exploratory data analysis of SD police traffic stops data from 2016. It contains just enough analyses to inform the data cleaning process, for further statistical analyses later. This involves:\n",
    "* Making sure data types match the expected values for each column,\n",
    "* Cleaning any obvious outliers and fields with placeholder values for NULL,\n",
    "* Collapsing values to a precision that better reflects the data collection process."
   ]
  },
  {
   "cell_type": "code",
   "execution_count": 2,
   "metadata": {},
   "outputs": [],
   "source": [
    "stops = pd.read_csv('http://seshat.datasd.org/pd/vehicle_stops_2016_datasd.csv')"
   ]
  },
  {
   "cell_type": "markdown",
   "metadata": {},
   "source": [
    "# Quality of attributes\n",
    "\n",
    "---\n",
    "\n",
    "## Quality of `stop_id`\n",
    "* a few records have duplicate IDs.\n",
    "* The stops for the duplicate IDs are unrelated.\n",
    "* Cleaning should create a new index; (keep `stop_id` for joining with search details)"
   ]
  },
  {
   "cell_type": "code",
   "execution_count": 3,
   "metadata": {},
   "outputs": [
    {
     "data": {
      "text/plain": [
       "9.70393300404654e-05"
      ]
     },
     "execution_count": 3,
     "metadata": {},
     "output_type": "execute_result"
    }
   ],
   "source": [
    "# duplicate stop ids\n",
    "stops.stop_id.duplicated().mean()"
   ]
  },
  {
   "cell_type": "code",
   "execution_count": 4,
   "metadata": {},
   "outputs": [
    {
     "data": {
      "text/html": [
       "<div>\n",
       "<style scoped>\n",
       "    .dataframe tbody tr th:only-of-type {\n",
       "        vertical-align: middle;\n",
       "    }\n",
       "\n",
       "    .dataframe tbody tr th {\n",
       "        vertical-align: top;\n",
       "    }\n",
       "\n",
       "    .dataframe thead th {\n",
       "        text-align: right;\n",
       "    }\n",
       "</style>\n",
       "<table border=\"1\" class=\"dataframe\">\n",
       "  <thead>\n",
       "    <tr style=\"text-align: right;\">\n",
       "      <th></th>\n",
       "      <th>stop_id</th>\n",
       "      <th>stop_cause</th>\n",
       "      <th>service_area</th>\n",
       "      <th>subject_race</th>\n",
       "      <th>subject_sex</th>\n",
       "      <th>subject_age</th>\n",
       "      <th>timestamp</th>\n",
       "      <th>stop_date</th>\n",
       "      <th>stop_time</th>\n",
       "      <th>sd_resident</th>\n",
       "      <th>arrested</th>\n",
       "      <th>searched</th>\n",
       "      <th>obtained_consent</th>\n",
       "      <th>contraband_found</th>\n",
       "      <th>property_seized</th>\n",
       "    </tr>\n",
       "  </thead>\n",
       "  <tbody>\n",
       "    <tr>\n",
       "      <th>14030</th>\n",
       "      <td>1325336</td>\n",
       "      <td>Moving Violation</td>\n",
       "      <td>520</td>\n",
       "      <td>H</td>\n",
       "      <td>M</td>\n",
       "      <td>24</td>\n",
       "      <td>2016-02-13 23:55:00</td>\n",
       "      <td>2016-02-13</td>\n",
       "      <td>23:55</td>\n",
       "      <td>Y</td>\n",
       "      <td>N</td>\n",
       "      <td>N</td>\n",
       "      <td>NaN</td>\n",
       "      <td>NaN</td>\n",
       "      <td>NaN</td>\n",
       "    </tr>\n",
       "    <tr>\n",
       "      <th>17233</th>\n",
       "      <td>1325336</td>\n",
       "      <td>Equipment Violation</td>\n",
       "      <td>830</td>\n",
       "      <td>H</td>\n",
       "      <td>M</td>\n",
       "      <td>61</td>\n",
       "      <td>2016-02-24 00:00:00</td>\n",
       "      <td>2016-02-24</td>\n",
       "      <td>0:00</td>\n",
       "      <td>Y</td>\n",
       "      <td>N</td>\n",
       "      <td>N</td>\n",
       "      <td>NaN</td>\n",
       "      <td>NaN</td>\n",
       "      <td>NaN</td>\n",
       "    </tr>\n",
       "    <tr>\n",
       "      <th>19374</th>\n",
       "      <td>1330010</td>\n",
       "      <td>Moving Violation</td>\n",
       "      <td>120</td>\n",
       "      <td>B</td>\n",
       "      <td>F</td>\n",
       "      <td>51</td>\n",
       "      <td>2016-03-01 10:15:00</td>\n",
       "      <td>2016-03-01</td>\n",
       "      <td>10:15</td>\n",
       "      <td>NaN</td>\n",
       "      <td>n</td>\n",
       "      <td>n</td>\n",
       "      <td></td>\n",
       "      <td></td>\n",
       "      <td></td>\n",
       "    </tr>\n",
       "    <tr>\n",
       "      <th>22071</th>\n",
       "      <td>1330010</td>\n",
       "      <td>Moving Violation</td>\n",
       "      <td>320</td>\n",
       "      <td>W</td>\n",
       "      <td>F</td>\n",
       "      <td>25</td>\n",
       "      <td>2016-03-09 11:23:00</td>\n",
       "      <td>2016-03-09</td>\n",
       "      <td>11:23</td>\n",
       "      <td>Y</td>\n",
       "      <td>N</td>\n",
       "      <td>N</td>\n",
       "      <td>NaN</td>\n",
       "      <td>NaN</td>\n",
       "      <td>NaN</td>\n",
       "    </tr>\n",
       "    <tr>\n",
       "      <th>22106</th>\n",
       "      <td>1330041</td>\n",
       "      <td>Moving Violation</td>\n",
       "      <td>120</td>\n",
       "      <td>W</td>\n",
       "      <td>F</td>\n",
       "      <td>62</td>\n",
       "      <td>2016-03-09 12:50:00</td>\n",
       "      <td>2016-03-09</td>\n",
       "      <td>12:50</td>\n",
       "      <td>Y</td>\n",
       "      <td>n</td>\n",
       "      <td>n</td>\n",
       "      <td>NaN</td>\n",
       "      <td>NaN</td>\n",
       "      <td>NaN</td>\n",
       "    </tr>\n",
       "  </tbody>\n",
       "</table>\n",
       "</div>"
      ],
      "text/plain": [
       "       stop_id           stop_cause service_area subject_race subject_sex  \\\n",
       "14030  1325336     Moving Violation          520            H           M   \n",
       "17233  1325336  Equipment Violation          830            H           M   \n",
       "19374  1330010     Moving Violation          120            B           F   \n",
       "22071  1330010     Moving Violation          320            W           F   \n",
       "22106  1330041     Moving Violation          120            W           F   \n",
       "\n",
       "      subject_age            timestamp   stop_date stop_time sd_resident  \\\n",
       "14030          24  2016-02-13 23:55:00  2016-02-13     23:55           Y   \n",
       "17233          61  2016-02-24 00:00:00  2016-02-24      0:00           Y   \n",
       "19374          51  2016-03-01 10:15:00  2016-03-01     10:15         NaN   \n",
       "22071          25  2016-03-09 11:23:00  2016-03-09     11:23           Y   \n",
       "22106          62  2016-03-09 12:50:00  2016-03-09     12:50           Y   \n",
       "\n",
       "      arrested searched obtained_consent contraband_found property_seized  \n",
       "14030        N        N              NaN              NaN             NaN  \n",
       "17233        N        N              NaN              NaN             NaN  \n",
       "19374        n        n                                                    \n",
       "22071        N        N              NaN              NaN             NaN  \n",
       "22106        n        n              NaN              NaN             NaN  "
      ]
     },
     "execution_count": 4,
     "metadata": {},
     "output_type": "execute_result"
    }
   ],
   "source": [
    "stops.loc[stops.stop_id.duplicated(keep=False)].sort_values(by='stop_id').head()"
   ]
  },
  {
   "cell_type": "markdown",
   "metadata": {},
   "source": [
    "## Quality of `timestamp`, `stop_date`, `stop_time`\n",
    "\n",
    "* timestamp is clean, but is NULL when a *time* doesn't exist.\n",
    "* stop_date seems valid for every entry.\n",
    "* few enough timestamps are corrupt to matter; drop NULL."
   ]
  },
  {
   "cell_type": "code",
   "execution_count": 5,
   "metadata": {},
   "outputs": [
    {
     "data": {
      "text/plain": [
       "0.001669076476696005"
      ]
     },
     "execution_count": 5,
     "metadata": {},
     "output_type": "execute_result"
    }
   ],
   "source": [
    "stops.timestamp.isnull().mean()"
   ]
  },
  {
   "cell_type": "code",
   "execution_count": 9,
   "metadata": {},
   "outputs": [],
   "source": [
    "stops['timestamp'] = pd.to_datetime(stops.timestamp)\n",
    "\n",
    "#stops = stops.dropna(subset=['timestamp'])"
   ]
  },
  {
   "cell_type": "code",
   "execution_count": 91,
   "metadata": {},
   "outputs": [
    {
     "data": {
      "text/plain": [
       "<matplotlib.axes._subplots.AxesSubplot at 0x120072f60>"
      ]
     },
     "execution_count": 91,
     "metadata": {},
     "output_type": "execute_result"
    },
    {
     "data": {
      "image/png": "[encoded data removed]",
      "text/plain": [
       "<Figure size 1008x432 with 1 Axes>"
      ]
     },
     "metadata": {
      "needs_background": "light"
     },
     "output_type": "display_data"
    }
   ],
   "source": [
    "times.apply(lambda x:x.minute).value_counts().sort_index().plot(kind='bar', figsize=(14,6))"
   ]
  },
  {
   "cell_type": "code",
   "execution_count": 92,
   "metadata": {},
   "outputs": [
    {
     "data": {
      "text/plain": [
       "<matplotlib.axes._subplots.AxesSubplot at 0x1a271e0860>"
      ]
     },
     "execution_count": 92,
     "metadata": {},
     "output_type": "execute_result"
    },
    {
     "data": {
      "image/png": "[encoded data removed]",
      "text/plain": [
       "<Figure size 1008x432 with 1 Axes>"
      ]
     },
     "metadata": {
      "needs_background": "light"
     },
     "output_type": "display_data"
    }
   ],
   "source": [
    "times.apply(lambda x:x.hour).value_counts().sort_index().plot(kind='bar', figsize=(14,6))"
   ]
  },
  {
   "cell_type": "markdown",
   "metadata": {},
   "source": [
    "## Quality of stop-attributes\n",
    "\n",
    "* `stop_cause`: the investigation is on overall causes/effects of traffic stops, so can likely NULL all but Moving/Equipment,\n",
    "* `service_area`: 'Unknown' is NULL; other fields are reasonable in form.\n",
    "    - Service areas `530`, `840`, `130`, and `630` have few stops; data quality issue?\n",
    "* `subject_race`: Look fine; perhaps group certain classifications together?\n",
    "* `subject_sex`: `X` is different than `NaN`, however, `NaN` likely contains what *should* be `X`. Non-binary classifications are likely unreliable. Group them together.\n",
    "* `subject_age`: Three issues with data quality.\n",
    "    - `No Age`, `0` are both placeholders for `NaN`.\n",
    "    - ages beyond `100` are likely recording errors,\n",
    "    - ages less than `14` are likely recording errors."
   ]
  },
  {
   "cell_type": "code",
   "execution_count": 98,
   "metadata": {},
   "outputs": [],
   "source": [
    "attr_cols = ['stop_cause', 'service_area', 'subject_race', 'subject_sex', 'subject_age', 'sd_resident']"
   ]
  },
  {
   "cell_type": "code",
   "execution_count": 95,
   "metadata": {},
   "outputs": [
    {
     "data": {
      "text/plain": [
       "Moving Violation                      0.729303\n",
       "Equipment Violation                   0.254979\n",
       "Radio Call/Citizen Contact            0.005550\n",
       "Muni, County, H&S Code                0.003101\n",
       "Personal Knowledge/Informant          0.002809\n",
       "No Cause Specified on a Card          0.001789\n",
       "Suspect Info (I.S., Bulletin, Log)    0.001759\n",
       "Personal Observ/Knowledge             0.000437\n",
       "MUNI, County, H&S Code                0.000136\n",
       "NaN                                   0.000068\n",
       "Suspect Info                          0.000019\n",
       "Bicycle                               0.000019\n",
       "BICYCLE                               0.000010\n",
       "B & P                                 0.000010\n",
       "Bicycle Bicycle                       0.000010\n",
       "Name: stop_cause, dtype: float64"
      ]
     },
     "execution_count": 95,
     "metadata": {},
     "output_type": "execute_result"
    }
   ],
   "source": [
    "stops.stop_cause.value_counts(normalize=True, dropna=False)"
   ]
  },
  {
   "cell_type": "code",
   "execution_count": 99,
   "metadata": {
    "slideshow": {
     "slide_type": "subslide"
    }
   },
   "outputs": [
    {
     "data": {
      "text/plain": [
       "120        8157\n",
       "310        8062\n",
       "520        7889\n",
       "710        7829\n",
       "110        7245\n",
       "930        6758\n",
       "240        6424\n",
       "230        5593\n",
       "510        4933\n",
       "320        4709\n",
       "620        4463\n",
       "610        4343\n",
       "720        4244\n",
       "440        4172\n",
       "430        4011\n",
       "Unknown    3908\n",
       "810        3514\n",
       "830        3364\n",
       "820        3028\n",
       "530         171\n",
       "840          24\n",
       "130          23\n",
       "630          15\n",
       "Name: service_area, dtype: int64"
      ]
     },
     "execution_count": 99,
     "metadata": {},
     "output_type": "execute_result"
    }
   ],
   "source": [
    "stops.service_area.value_counts()"
   ]
  },
  {
   "cell_type": "code",
   "execution_count": 100,
   "metadata": {},
   "outputs": [
    {
     "data": {
      "text/plain": [
       "W    42247\n",
       "H    32402\n",
       "B    11828\n",
       "O     7891\n",
       "A     4765\n",
       "F     1225\n",
       "V      621\n",
       "C      537\n",
       "I      479\n",
       "X      167\n",
       "K      136\n",
       "P      110\n",
       "J       98\n",
       "Z       72\n",
       "L       54\n",
       "D       50\n",
       "S       37\n",
       "G       22\n",
       "U        7\n",
       "Name: subject_race, dtype: int64"
      ]
     },
     "execution_count": 100,
     "metadata": {},
     "output_type": "execute_result"
    }
   ],
   "source": [
    "stops.subject_race.value_counts()"
   ]
  },
  {
   "cell_type": "code",
   "execution_count": 191,
   "metadata": {},
   "outputs": [
    {
     "data": {
      "text/plain": [
       "M      67167\n",
       "F      35516\n",
       "NaN      186\n",
       "X         10\n",
       "Name: subject_sex, dtype: int64"
      ]
     },
     "execution_count": 191,
     "metadata": {},
     "output_type": "execute_result"
    }
   ],
   "source": [
    "stops.subject_sex.value_counts(dropna=False)"
   ]
  },
  {
   "cell_type": "code",
   "execution_count": 126,
   "metadata": {},
   "outputs": [
    {
     "data": {
      "text/plain": [
       "array(['No Age'], dtype=object)"
      ]
     },
     "execution_count": 126,
     "metadata": {},
     "output_type": "execute_result"
    }
   ],
   "source": [
    "stops.loc[~stops.subject_age.fillna('0').str.isdigit(), 'subject_age'].unique()"
   ]
  },
  {
   "cell_type": "code",
   "execution_count": 128,
   "metadata": {},
   "outputs": [],
   "source": [
    "stops['subject_age'] = pd.to_numeric(stops.subject_age, errors='coerce')"
   ]
  },
  {
   "cell_type": "code",
   "execution_count": 136,
   "metadata": {},
   "outputs": [
    {
     "data": {
      "text/plain": [
       "0.0      218\n",
       "1.0        2\n",
       "2.0        6\n",
       "4.0        4\n",
       "5.0        1\n",
       "6.0        1\n",
       "9.0        1\n",
       "10.0       2\n",
       "14.0       5\n",
       "15.0      27\n",
       "114.0      1\n",
       "119.0      1\n",
       "120.0      1\n",
       "145.0      1\n",
       "163.0      1\n",
       "212.0      1\n",
       "220.0      1\n",
       "Name: subject_age, dtype: int64"
      ]
     },
     "execution_count": 136,
     "metadata": {},
     "output_type": "execute_result"
    }
   ],
   "source": [
    "stops.loc[(stops.subject_age < 16) | (stops.subject_age > 100), 'subject_age'].value_counts().sort_index()"
   ]
  },
  {
   "cell_type": "code",
   "execution_count": 140,
   "metadata": {},
   "outputs": [
    {
     "data": {
      "text/plain": [
       "<matplotlib.axes._subplots.AxesSubplot at 0x1a29a6fba8>"
      ]
     },
     "execution_count": 140,
     "metadata": {},
     "output_type": "execute_result"
    },
    {
     "data": {
      "image/png": "[encoded data removed]",
      "text/plain": [
       "<Figure size 1152x432 with 1 Axes>"
      ]
     },
     "metadata": {
      "needs_background": "light"
     },
     "output_type": "display_data"
    }
   ],
   "source": [
    "stops.loc[(stops.subject_age >= 14)&(stops.subject_age <= 100), 'subject_age'].plot(kind='hist', bins=85, figsize=(16,6))"
   ]
  },
  {
   "cell_type": "code",
   "execution_count": 141,
   "metadata": {},
   "outputs": [
    {
     "data": {
      "text/plain": [
       "Y    61986\n",
       "N    21531\n",
       "         1\n",
       "Name: sd_resident, dtype: int64"
      ]
     },
     "execution_count": 141,
     "metadata": {},
     "output_type": "execute_result"
    }
   ],
   "source": [
    "stops.sd_resident.value_counts()"
   ]
  },
  {
   "cell_type": "markdown",
   "metadata": {},
   "source": [
    "## Quality of stop actions"
   ]
  },
  {
   "cell_type": "code",
   "execution_count": 146,
   "metadata": {},
   "outputs": [],
   "source": [
    "actions = ['arrested', 'searched', 'obtained_consent', 'contraband_found',\n",
    "       'property_seized']"
   ]
  },
  {
   "cell_type": "code",
   "execution_count": 150,
   "metadata": {},
   "outputs": [
    {
     "name": "stdout",
     "output_type": "stream",
     "text": [
      "arrested \n",
      " N      82915\n",
      "NaN    18650\n",
      "Y       1239\n",
      "n         73\n",
      "y          1\n",
      "           1\n",
      "\n",
      "searched \n",
      " N      79115\n",
      "NaN    19719\n",
      "Y       3969\n",
      "n         74\n",
      "\\          1\n",
      "           1\n",
      "\n",
      "obtained_consent \n",
      " NaN    98091\n",
      "N       4741\n",
      "Y         45\n",
      "           2\n",
      "\n",
      "contraband_found \n",
      " NaN    97913\n",
      "N       4482\n",
      "Y        482\n",
      "           2\n",
      "\n",
      "property_seized \n",
      " NaN    97958\n",
      "N       4385\n",
      "Y        534\n",
      "           2\n",
      "\n"
     ]
    }
   ],
   "source": [
    "for c in actions:\n",
    "    print(\n",
    "        c, '\\n', stops[c].value_counts(dropna=False).to_string(), end='\\n\\n'\n",
    "    )"
   ]
  },
  {
   "cell_type": "code",
   "execution_count": null,
   "metadata": {},
   "outputs": [],
   "source": []
  }
 ],
 "metadata": {
  "kernelspec": {
   "display_name": "Python 3",
   "language": "python",
   "name": "python3"
  },
  "language_info": {
   "codemirror_mode": {
    "name": "ipython",
    "version": 3
   },
   "file_extension": ".py",
   "mimetype": "text/x-python",
   "name": "python",
   "nbconvert_exporter": "python",
   "pygments_lexer": "ipython3",
   "version": "3.7.1"
  }
 },
 "nbformat": 4,
 "nbformat_minor": 2
}
