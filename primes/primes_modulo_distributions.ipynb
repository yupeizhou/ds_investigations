{
 "cells": [
  {
   "cell_type": "code",
   "execution_count": 1,
   "metadata": {},
   "outputs": [],
   "source": [
    "%matplotlib inline\n",
    "import matplotlib.pyplot as plt\n",
    "import numpy as np\n",
    "import pandas as pd"
   ]
  },
  {
   "cell_type": "code",
   "execution_count": 2,
   "metadata": {},
   "outputs": [],
   "source": [
    "from primes import primesfrom2to"
   ]
  },
  {
   "cell_type": "code",
   "execution_count": 3,
   "metadata": {},
   "outputs": [],
   "source": [
    "primes = primesfrom2to(10**7)"
   ]
  },
  {
   "cell_type": "code",
   "execution_count": 4,
   "metadata": {},
   "outputs": [
    {
     "data": {
      "text/plain": [
       "664579"
      ]
     },
     "execution_count": 4,
     "metadata": {},
     "output_type": "execute_result"
    }
   ],
   "source": [
    "len(primes)"
   ]
  },
  {
   "cell_type": "code",
   "execution_count": 5,
   "metadata": {},
   "outputs": [
    {
     "data": {
      "text/plain": [
       "<matplotlib.axes._subplots.AxesSubplot at 0x1be1d38d630>"
      ]
     },
     "execution_count": 5,
     "metadata": {},
     "output_type": "execute_result"
    },
    {
     "data": {
      "image/png": "[encoded data removed]",
      "text/plain": [
       "<Figure size 432x288 with 1 Axes>"
      ]
     },
     "metadata": {
      "needs_background": "light"
     },
     "output_type": "display_data"
    }
   ],
   "source": [
    "pd.Series(primes % 37).plot(kind='hist', bins=37, density=True)"
   ]
  },
  {
   "cell_type": "code",
   "execution_count": 7,
   "metadata": {},
   "outputs": [],
   "source": [
    "N = 20\n",
    "mods = pd.DataFrame(columns=primes[:N])\n",
    "for p in primes[:N]:\n",
    "    mods[p] = primes % p"
   ]
  },
  {
   "cell_type": "code",
   "execution_count": 8,
   "metadata": {},
   "outputs": [],
   "source": [
    "k = primes[10]\n",
    "a = mods.loc[mods[k].idxmin() + 1 :,[k]]\n",
    "b = a.assign(cond=a.shift(-1)).dropna()\n",
    "cnts = b.pivot_table(index='cond', columns=k, aggfunc='size')"
   ]
  },
  {
   "cell_type": "code",
   "execution_count": 12,
   "metadata": {},
   "outputs": [
    {
     "data": {
      "image/png": "[encoded data removed]",
      "text/plain": [
       "<Figure size 288x288 with 1 Axes>"
      ]
     },
     "metadata": {
      "needs_background": "light"
     },
     "output_type": "display_data"
    }
   ],
   "source": [
    "plt.matshow(cnts)\n",
    "plt.suptitle('prime = ' + str(k));"
   ]
  },
  {
   "cell_type": "code",
   "execution_count": 13,
   "metadata": {},
   "outputs": [
    {
     "data": {
      "text/html": [
       "<div>\n",
       "<style scoped>\n",
       "    .dataframe tbody tr th:only-of-type {\n",
       "        vertical-align: middle;\n",
       "    }\n",
       "\n",
       "    .dataframe tbody tr th {\n",
       "        vertical-align: top;\n",
       "    }\n",
       "\n",
       "    .dataframe thead th {\n",
       "        text-align: right;\n",
       "    }\n",
       "</style>\n",
       "<table border=\"1\" class=\"dataframe\">\n",
       "  <thead>\n",
       "    <tr style=\"text-align: right;\">\n",
       "      <th>31</th>\n",
       "      <th>1</th>\n",
       "      <th>2</th>\n",
       "      <th>3</th>\n",
       "      <th>4</th>\n",
       "      <th>5</th>\n",
       "      <th>6</th>\n",
       "      <th>7</th>\n",
       "      <th>8</th>\n",
       "      <th>9</th>\n",
       "      <th>10</th>\n",
       "      <th>...</th>\n",
       "      <th>21</th>\n",
       "      <th>22</th>\n",
       "      <th>23</th>\n",
       "      <th>24</th>\n",
       "      <th>25</th>\n",
       "      <th>26</th>\n",
       "      <th>27</th>\n",
       "      <th>28</th>\n",
       "      <th>29</th>\n",
       "      <th>30</th>\n",
       "    </tr>\n",
       "    <tr>\n",
       "      <th>cond</th>\n",
       "      <th></th>\n",
       "      <th></th>\n",
       "      <th></th>\n",
       "      <th></th>\n",
       "      <th></th>\n",
       "      <th></th>\n",
       "      <th></th>\n",
       "      <th></th>\n",
       "      <th></th>\n",
       "      <th></th>\n",
       "      <th></th>\n",
       "      <th></th>\n",
       "      <th></th>\n",
       "      <th></th>\n",
       "      <th></th>\n",
       "      <th></th>\n",
       "      <th></th>\n",
       "      <th></th>\n",
       "      <th></th>\n",
       "      <th></th>\n",
       "      <th></th>\n",
       "    </tr>\n",
       "  </thead>\n",
       "  <tbody>\n",
       "    <tr>\n",
       "      <th>1.0</th>\n",
       "      <td>17</td>\n",
       "      <td>687</td>\n",
       "      <td>66</td>\n",
       "      <td>411</td>\n",
       "      <td>31</td>\n",
       "      <td>411</td>\n",
       "      <td>39</td>\n",
       "      <td>885</td>\n",
       "      <td>91</td>\n",
       "      <td>622</td>\n",
       "      <td>...</td>\n",
       "      <td>258</td>\n",
       "      <td>1819</td>\n",
       "      <td>186</td>\n",
       "      <td>1466</td>\n",
       "      <td>145</td>\n",
       "      <td>3326</td>\n",
       "      <td>372</td>\n",
       "      <td>2094</td>\n",
       "      <td>228</td>\n",
       "      <td>2034</td>\n",
       "    </tr>\n",
       "    <tr>\n",
       "      <th>2.0</th>\n",
       "      <td>270</td>\n",
       "      <td>17</td>\n",
       "      <td>776</td>\n",
       "      <td>59</td>\n",
       "      <td>403</td>\n",
       "      <td>27</td>\n",
       "      <td>493</td>\n",
       "      <td>29</td>\n",
       "      <td>980</td>\n",
       "      <td>79</td>\n",
       "      <td>...</td>\n",
       "      <td>2597</td>\n",
       "      <td>250</td>\n",
       "      <td>1867</td>\n",
       "      <td>164</td>\n",
       "      <td>1689</td>\n",
       "      <td>171</td>\n",
       "      <td>3817</td>\n",
       "      <td>367</td>\n",
       "      <td>2056</td>\n",
       "      <td>228</td>\n",
       "    </tr>\n",
       "    <tr>\n",
       "      <th>3.0</th>\n",
       "      <td>2066</td>\n",
       "      <td>190</td>\n",
       "      <td>12</td>\n",
       "      <td>723</td>\n",
       "      <td>45</td>\n",
       "      <td>424</td>\n",
       "      <td>38</td>\n",
       "      <td>406</td>\n",
       "      <td>39</td>\n",
       "      <td>884</td>\n",
       "      <td>...</td>\n",
       "      <td>92</td>\n",
       "      <td>2169</td>\n",
       "      <td>237</td>\n",
       "      <td>1902</td>\n",
       "      <td>214</td>\n",
       "      <td>1480</td>\n",
       "      <td>146</td>\n",
       "      <td>3432</td>\n",
       "      <td>339</td>\n",
       "      <td>2075</td>\n",
       "    </tr>\n",
       "    <tr>\n",
       "      <th>4.0</th>\n",
       "      <td>281</td>\n",
       "      <td>2084</td>\n",
       "      <td>189</td>\n",
       "      <td>17</td>\n",
       "      <td>773</td>\n",
       "      <td>55</td>\n",
       "      <td>515</td>\n",
       "      <td>41</td>\n",
       "      <td>411</td>\n",
       "      <td>37</td>\n",
       "      <td>...</td>\n",
       "      <td>1224</td>\n",
       "      <td>76</td>\n",
       "      <td>2462</td>\n",
       "      <td>244</td>\n",
       "      <td>2259</td>\n",
       "      <td>213</td>\n",
       "      <td>1467</td>\n",
       "      <td>142</td>\n",
       "      <td>3727</td>\n",
       "      <td>371</td>\n",
       "    </tr>\n",
       "    <tr>\n",
       "      <th>5.0</th>\n",
       "      <td>1991</td>\n",
       "      <td>198</td>\n",
       "      <td>2035</td>\n",
       "      <td>223</td>\n",
       "      <td>15</td>\n",
       "      <td>745</td>\n",
       "      <td>69</td>\n",
       "      <td>438</td>\n",
       "      <td>45</td>\n",
       "      <td>391</td>\n",
       "      <td>...</td>\n",
       "      <td>78</td>\n",
       "      <td>1177</td>\n",
       "      <td>110</td>\n",
       "      <td>2211</td>\n",
       "      <td>263</td>\n",
       "      <td>1870</td>\n",
       "      <td>197</td>\n",
       "      <td>1431</td>\n",
       "      <td>192</td>\n",
       "      <td>3495</td>\n",
       "    </tr>\n",
       "  </tbody>\n",
       "</table>\n",
       "<p>5 rows × 30 columns</p>\n",
       "</div>"
      ],
      "text/plain": [
       "31      1     2     3    4    5    6    7    8    9    10  ...     21    22  \\\n",
       "cond                                                       ...                \n",
       "1.0     17   687    66  411   31  411   39  885   91  622  ...    258  1819   \n",
       "2.0    270    17   776   59  403   27  493   29  980   79  ...   2597   250   \n",
       "3.0   2066   190    12  723   45  424   38  406   39  884  ...     92  2169   \n",
       "4.0    281  2084   189   17  773   55  515   41  411   37  ...   1224    76   \n",
       "5.0   1991   198  2035  223   15  745   69  438   45  391  ...     78  1177   \n",
       "\n",
       "31      23    24    25    26    27    28    29    30  \n",
       "cond                                                  \n",
       "1.0    186  1466   145  3326   372  2094   228  2034  \n",
       "2.0   1867   164  1689   171  3817   367  2056   228  \n",
       "3.0    237  1902   214  1480   146  3432   339  2075  \n",
       "4.0   2462   244  2259   213  1467   142  3727   371  \n",
       "5.0    110  2211   263  1870   197  1431   192  3495  \n",
       "\n",
       "[5 rows x 30 columns]"
      ]
     },
     "execution_count": 13,
     "metadata": {},
     "output_type": "execute_result"
    }
   ],
   "source": [
    "cnts.fillna(0).head()"
   ]
  },
  {
   "cell_type": "code",
   "execution_count": 14,
   "metadata": {},
   "outputs": [],
   "source": [
    "distrs = b.assign(\n",
    "    tmp=b.astype(float).diff(axis=1).iloc[:,-1],\n",
    "    tmp1=b.apply(tuple, axis=1)\n",
    ").groupby('tmp').tmp1.value_counts().sort_index()"
   ]
  },
  {
   "cell_type": "code",
   "execution_count": 15,
   "metadata": {},
   "outputs": [
    {
     "data": {
      "text/plain": [
       "tmp    tmp1       \n",
       "-29.0  (30.0, 1.0)    2034\n",
       "-28.0  (29.0, 1.0)     228\n",
       "       (30.0, 2.0)     228\n",
       "-27.0  (28.0, 1.0)    2094\n",
       "       (29.0, 2.0)    2056\n",
       "       (30.0, 3.0)    2075\n",
       "-26.0  (27.0, 1.0)     372\n",
       "       (28.0, 2.0)     367\n",
       "       (29.0, 3.0)     339\n",
       "       (30.0, 4.0)     371\n",
       "-25.0  (26.0, 1.0)    3326\n",
       "       (27.0, 2.0)    3817\n",
       "       (28.0, 3.0)    3432\n",
       "       (29.0, 4.0)    3727\n",
       "       (30.0, 5.0)    3495\n",
       "-24.0  (25.0, 1.0)     145\n",
       "       (26.0, 2.0)     171\n",
       "       (27.0, 3.0)     146\n",
       "       (28.0, 4.0)     142\n",
       "       (29.0, 5.0)     192\n",
       "       (30.0, 6.0)     175\n",
       "-23.0  (24.0, 1.0)    1466\n",
       "       (25.0, 2.0)    1689\n",
       "       (26.0, 3.0)    1480\n",
       "       (27.0, 4.0)    1467\n",
       "       (28.0, 5.0)    1431\n",
       "       (29.0, 6.0)    1716\n",
       "       (30.0, 7.0)    1409\n",
       "-22.0  (23.0, 1.0)     186\n",
       "       (24.0, 2.0)     164\n",
       "                      ... \n",
       " 22.0  (7.0, 29.0)     659\n",
       "       (8.0, 30.0)     645\n",
       " 23.0  (1.0, 24.0)      91\n",
       "       (2.0, 25.0)      69\n",
       "       (3.0, 26.0)      93\n",
       "       (4.0, 27.0)      76\n",
       "       (5.0, 28.0)      91\n",
       "       (6.0, 29.0)      69\n",
       "       (7.0, 30.0)     113\n",
       " 24.0  (1.0, 25.0)     881\n",
       "       (2.0, 26.0)     894\n",
       "       (3.0, 27.0)     917\n",
       "       (4.0, 28.0)     860\n",
       "       (5.0, 29.0)     870\n",
       "       (6.0, 30.0)     898\n",
       " 25.0  (1.0, 26.0)      60\n",
       "       (2.0, 27.0)      28\n",
       "       (3.0, 28.0)      32\n",
       "       (4.0, 29.0)      30\n",
       "       (5.0, 30.0)      47\n",
       " 26.0  (1.0, 27.0)     384\n",
       "       (2.0, 28.0)     382\n",
       "       (3.0, 29.0)     380\n",
       "       (4.0, 30.0)     397\n",
       " 27.0  (1.0, 28.0)      54\n",
       "       (2.0, 29.0)      27\n",
       "       (3.0, 30.0)      42\n",
       " 28.0  (1.0, 29.0)     409\n",
       "       (2.0, 30.0)     443\n",
       " 29.0  (1.0, 30.0)      67\n",
       "Name: tmp1, Length: 900, dtype: int64"
      ]
     },
     "execution_count": 15,
     "metadata": {},
     "output_type": "execute_result"
    }
   ],
   "source": [
    "distrs"
   ]
  },
  {
   "cell_type": "code",
   "execution_count": null,
   "metadata": {},
   "outputs": [],
   "source": []
  },
  {
   "cell_type": "code",
   "execution_count": null,
   "metadata": {},
   "outputs": [],
   "source": []
  }
 ],
 "metadata": {
  "kernelspec": {
   "display_name": "Python 3",
   "language": "python",
   "name": "python3"
  },
  "language_info": {
   "codemirror_mode": {
    "name": "ipython",
    "version": 3
   },
   "file_extension": ".py",
   "mimetype": "text/x-python",
   "name": "python",
   "nbconvert_exporter": "python",
   "pygments_lexer": "ipython3",
   "version": "3.7.1"
  }
 },
 "nbformat": 4,
 "nbformat_minor": 2
}
