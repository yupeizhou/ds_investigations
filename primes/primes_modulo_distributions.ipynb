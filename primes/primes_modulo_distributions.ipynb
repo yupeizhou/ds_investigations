{
 "cells": [
  {
   "cell_type": "code",
   "execution_count": 57,
   "metadata": {},
   "outputs": [],
   "source": [
    "%matplotlib inline\n",
    "import matplotlib.pyplot as plt\n",
    "import numpy as np\n",
    "import pandas as pd"
   ]
  },
  {
   "cell_type": "code",
   "execution_count": 2,
   "metadata": {},
   "outputs": [],
   "source": [
    "from primes import primesfrom2to"
   ]
  },
  {
   "cell_type": "code",
   "execution_count": 138,
   "metadata": {},
   "outputs": [],
   "source": [
    "primes = primesfrom2to(10**7)"
   ]
  },
  {
   "cell_type": "code",
   "execution_count": 139,
   "metadata": {},
   "outputs": [
    {
     "data": {
      "text/plain": [
       "664579"
      ]
     },
     "execution_count": 139,
     "metadata": {},
     "output_type": "execute_result"
    }
   ],
   "source": [
    "len(primes)"
   ]
  },
  {
   "cell_type": "code",
   "execution_count": 140,
   "metadata": {},
   "outputs": [
    {
     "data": {
      "text/plain": [
       "<matplotlib.axes._subplots.AxesSubplot at 0x122b87550>"
      ]
     },
     "execution_count": 140,
     "metadata": {},
     "output_type": "execute_result"
    },
    {
     "data": {
      "image/png": "[encoded data removed]",
      "text/plain": [
       "<Figure size 432x288 with 1 Axes>"
      ]
     },
     "metadata": {
      "needs_background": "light"
     },
     "output_type": "display_data"
    }
   ],
   "source": [
    "pd.Series(primes % 37).plot(kind='hist', bins=37, density=True)"
   ]
  },
  {
   "cell_type": "code",
   "execution_count": 249,
   "metadata": {},
   "outputs": [],
   "source": [
    "N = 100\n",
    "mods = pd.DataFrame(columns=primes[:N])\n",
    "for p in primes[:N]:\n",
    "    mods[p] = primes % p"
   ]
  },
  {
   "cell_type": "code",
   "execution_count": 276,
   "metadata": {},
   "outputs": [],
   "source": [
    "k = primes[90]\n",
    "a = mods.loc[mods[k].idxmin() + 1 :,[k]]\n",
    "b = a.assign(cond=a.shift(-1)).dropna()\n",
    "cnts = b.pivot_table(index='cond', columns=k, aggfunc='size')"
   ]
  },
  {
   "cell_type": "code",
   "execution_count": 277,
   "metadata": {},
   "outputs": [
    {
     "data": {
      "image/png": "[encoded data removed]",
      "text/plain": [
       "<Figure size 288x288 with 1 Axes>"
      ]
     },
     "metadata": {
      "needs_background": "light"
     },
     "output_type": "display_data"
    }
   ],
   "source": [
    "plt.matshow(cnts)\n",
    "plt.suptitle('prime = ' + str(k));"
   ]
  },
  {
   "cell_type": "code",
   "execution_count": 278,
   "metadata": {},
   "outputs": [
    {
     "data": {
      "text/html": [
       "<div>\n",
       "<style scoped>\n",
       "    .dataframe tbody tr th:only-of-type {\n",
       "        vertical-align: middle;\n",
       "    }\n",
       "\n",
       "    .dataframe tbody tr th {\n",
       "        vertical-align: top;\n",
       "    }\n",
       "\n",
       "    .dataframe thead th {\n",
       "        text-align: right;\n",
       "    }\n",
       "</style>\n",
       "<table border=\"1\" class=\"dataframe\">\n",
       "  <thead>\n",
       "    <tr style=\"text-align: right;\">\n",
       "      <th>467</th>\n",
       "      <th>1</th>\n",
       "      <th>2</th>\n",
       "      <th>3</th>\n",
       "      <th>4</th>\n",
       "      <th>5</th>\n",
       "      <th>6</th>\n",
       "      <th>7</th>\n",
       "      <th>8</th>\n",
       "      <th>9</th>\n",
       "      <th>10</th>\n",
       "      <th>...</th>\n",
       "      <th>457</th>\n",
       "      <th>458</th>\n",
       "      <th>459</th>\n",
       "      <th>460</th>\n",
       "      <th>461</th>\n",
       "      <th>462</th>\n",
       "      <th>463</th>\n",
       "      <th>464</th>\n",
       "      <th>465</th>\n",
       "      <th>466</th>\n",
       "    </tr>\n",
       "    <tr>\n",
       "      <th>cond</th>\n",
       "      <th></th>\n",
       "      <th></th>\n",
       "      <th></th>\n",
       "      <th></th>\n",
       "      <th></th>\n",
       "      <th></th>\n",
       "      <th></th>\n",
       "      <th></th>\n",
       "      <th></th>\n",
       "      <th></th>\n",
       "      <th></th>\n",
       "      <th></th>\n",
       "      <th></th>\n",
       "      <th></th>\n",
       "      <th></th>\n",
       "      <th></th>\n",
       "      <th></th>\n",
       "      <th></th>\n",
       "      <th></th>\n",
       "      <th></th>\n",
       "      <th></th>\n",
       "    </tr>\n",
       "  </thead>\n",
       "  <tbody>\n",
       "    <tr>\n",
       "      <th>1.0</th>\n",
       "      <td>0.0</td>\n",
       "      <td>0.0</td>\n",
       "      <td>0.0</td>\n",
       "      <td>0.0</td>\n",
       "      <td>0.0</td>\n",
       "      <td>0.0</td>\n",
       "      <td>0.0</td>\n",
       "      <td>0.0</td>\n",
       "      <td>0.0</td>\n",
       "      <td>0.0</td>\n",
       "      <td>...</td>\n",
       "      <td>0.0</td>\n",
       "      <td>118.0</td>\n",
       "      <td>0.0</td>\n",
       "      <td>94.0</td>\n",
       "      <td>0.0</td>\n",
       "      <td>225.0</td>\n",
       "      <td>0.0</td>\n",
       "      <td>148.0</td>\n",
       "      <td>0.0</td>\n",
       "      <td>117.0</td>\n",
       "    </tr>\n",
       "    <tr>\n",
       "      <th>2.0</th>\n",
       "      <td>0.0</td>\n",
       "      <td>0.0</td>\n",
       "      <td>0.0</td>\n",
       "      <td>0.0</td>\n",
       "      <td>0.0</td>\n",
       "      <td>0.0</td>\n",
       "      <td>0.0</td>\n",
       "      <td>0.0</td>\n",
       "      <td>0.0</td>\n",
       "      <td>0.0</td>\n",
       "      <td>...</td>\n",
       "      <td>174.0</td>\n",
       "      <td>0.0</td>\n",
       "      <td>123.0</td>\n",
       "      <td>0.0</td>\n",
       "      <td>99.0</td>\n",
       "      <td>0.0</td>\n",
       "      <td>247.0</td>\n",
       "      <td>0.0</td>\n",
       "      <td>133.0</td>\n",
       "      <td>0.0</td>\n",
       "    </tr>\n",
       "    <tr>\n",
       "      <th>3.0</th>\n",
       "      <td>125.0</td>\n",
       "      <td>0.0</td>\n",
       "      <td>0.0</td>\n",
       "      <td>0.0</td>\n",
       "      <td>0.0</td>\n",
       "      <td>0.0</td>\n",
       "      <td>0.0</td>\n",
       "      <td>0.0</td>\n",
       "      <td>0.0</td>\n",
       "      <td>0.0</td>\n",
       "      <td>...</td>\n",
       "      <td>0.0</td>\n",
       "      <td>139.0</td>\n",
       "      <td>0.0</td>\n",
       "      <td>124.0</td>\n",
       "      <td>0.0</td>\n",
       "      <td>77.0</td>\n",
       "      <td>0.0</td>\n",
       "      <td>203.0</td>\n",
       "      <td>0.0</td>\n",
       "      <td>137.0</td>\n",
       "    </tr>\n",
       "    <tr>\n",
       "      <th>4.0</th>\n",
       "      <td>0.0</td>\n",
       "      <td>124.0</td>\n",
       "      <td>0.0</td>\n",
       "      <td>0.0</td>\n",
       "      <td>0.0</td>\n",
       "      <td>0.0</td>\n",
       "      <td>0.0</td>\n",
       "      <td>0.0</td>\n",
       "      <td>0.0</td>\n",
       "      <td>0.0</td>\n",
       "      <td>...</td>\n",
       "      <td>75.0</td>\n",
       "      <td>0.0</td>\n",
       "      <td>167.0</td>\n",
       "      <td>0.0</td>\n",
       "      <td>150.0</td>\n",
       "      <td>0.0</td>\n",
       "      <td>103.0</td>\n",
       "      <td>0.0</td>\n",
       "      <td>215.0</td>\n",
       "      <td>0.0</td>\n",
       "    </tr>\n",
       "    <tr>\n",
       "      <th>5.0</th>\n",
       "      <td>119.0</td>\n",
       "      <td>0.0</td>\n",
       "      <td>110.0</td>\n",
       "      <td>0.0</td>\n",
       "      <td>0.0</td>\n",
       "      <td>0.0</td>\n",
       "      <td>0.0</td>\n",
       "      <td>0.0</td>\n",
       "      <td>0.0</td>\n",
       "      <td>0.0</td>\n",
       "      <td>...</td>\n",
       "      <td>0.0</td>\n",
       "      <td>83.0</td>\n",
       "      <td>0.0</td>\n",
       "      <td>155.0</td>\n",
       "      <td>0.0</td>\n",
       "      <td>123.0</td>\n",
       "      <td>0.0</td>\n",
       "      <td>89.0</td>\n",
       "      <td>0.0</td>\n",
       "      <td>227.0</td>\n",
       "    </tr>\n",
       "  </tbody>\n",
       "</table>\n",
       "<p>5 rows × 466 columns</p>\n",
       "</div>"
      ],
      "text/plain": [
       "467     1      2      3    4    5    6    7    8    9    10   ...    457  \\\n",
       "cond                                                          ...          \n",
       "1.0     0.0    0.0    0.0  0.0  0.0  0.0  0.0  0.0  0.0  0.0  ...    0.0   \n",
       "2.0     0.0    0.0    0.0  0.0  0.0  0.0  0.0  0.0  0.0  0.0  ...  174.0   \n",
       "3.0   125.0    0.0    0.0  0.0  0.0  0.0  0.0  0.0  0.0  0.0  ...    0.0   \n",
       "4.0     0.0  124.0    0.0  0.0  0.0  0.0  0.0  0.0  0.0  0.0  ...   75.0   \n",
       "5.0   119.0    0.0  110.0  0.0  0.0  0.0  0.0  0.0  0.0  0.0  ...    0.0   \n",
       "\n",
       "467     458    459    460    461    462    463    464    465    466  \n",
       "cond                                                                 \n",
       "1.0   118.0    0.0   94.0    0.0  225.0    0.0  148.0    0.0  117.0  \n",
       "2.0     0.0  123.0    0.0   99.0    0.0  247.0    0.0  133.0    0.0  \n",
       "3.0   139.0    0.0  124.0    0.0   77.0    0.0  203.0    0.0  137.0  \n",
       "4.0     0.0  167.0    0.0  150.0    0.0  103.0    0.0  215.0    0.0  \n",
       "5.0    83.0    0.0  155.0    0.0  123.0    0.0   89.0    0.0  227.0  \n",
       "\n",
       "[5 rows x 466 columns]"
      ]
     },
     "execution_count": 278,
     "metadata": {},
     "output_type": "execute_result"
    }
   ],
   "source": [
    "cnts.fillna(0).head()"
   ]
  },
  {
   "cell_type": "code",
   "execution_count": 279,
   "metadata": {},
   "outputs": [],
   "source": [
    "distrs = b.assign(\n",
    "    tmp=b.astype(float).diff(axis=1).iloc[:,-1],\n",
    "    tmp1=b.apply(tuple, axis=1)\n",
    ").groupby('tmp').tmp1.value_counts().sort_index()"
   ]
  },
  {
   "cell_type": "code",
   "execution_count": 280,
   "metadata": {},
   "outputs": [
    {
     "data": {
      "text/plain": [
       "tmp     tmp1          \n",
       "-465.0  (466.0, 1.0)      117\n",
       "-463.0  (464.0, 1.0)      148\n",
       "        (465.0, 2.0)      133\n",
       "        (466.0, 3.0)      137\n",
       "-461.0  (462.0, 1.0)      225\n",
       "        (463.0, 2.0)      247\n",
       "        (464.0, 3.0)      203\n",
       "        (465.0, 4.0)      215\n",
       "        (466.0, 5.0)      227\n",
       "-459.0  (460.0, 1.0)       94\n",
       "        (461.0, 2.0)       99\n",
       "        (462.0, 3.0)       77\n",
       "        (463.0, 4.0)      103\n",
       "        (464.0, 5.0)       89\n",
       "        (465.0, 6.0)       95\n",
       "        (466.0, 7.0)       88\n",
       "-457.0  (458.0, 1.0)      118\n",
       "        (459.0, 2.0)      123\n",
       "        (460.0, 3.0)      124\n",
       "        (461.0, 4.0)      150\n",
       "        (462.0, 5.0)      123\n",
       "        (463.0, 6.0)      130\n",
       "        (464.0, 7.0)      126\n",
       "        (465.0, 8.0)      137\n",
       "        (466.0, 9.0)      117\n",
       "-455.0  (456.0, 1.0)      143\n",
       "        (457.0, 2.0)      174\n",
       "        (458.0, 3.0)      139\n",
       "        (459.0, 4.0)      167\n",
       "        (460.0, 5.0)      155\n",
       "                         ... \n",
       " 118.0  (20.0, 138.0)       1\n",
       "        (62.0, 180.0)       1\n",
       "        (234.0, 352.0)      1\n",
       " 120.0  (37.0, 157.0)       1\n",
       "        (83.0, 203.0)       1\n",
       "        (158.0, 278.0)      1\n",
       "        (183.0, 303.0)      1\n",
       "        (184.0, 304.0)      1\n",
       "        (273.0, 393.0)      1\n",
       " 122.0  (74.0, 196.0)       1\n",
       " 124.0  (270.0, 394.0)      1\n",
       " 126.0  (2.0, 128.0)        1\n",
       "        (14.0, 140.0)       1\n",
       "        (153.0, 279.0)      1\n",
       "        (176.0, 302.0)      1\n",
       "        (188.0, 314.0)      1\n",
       " 128.0  (110.0, 238.0)      1\n",
       " 130.0  (148.0, 278.0)      1\n",
       " 132.0  (58.0, 190.0)       1\n",
       "        (99.0, 231.0)       1\n",
       "        (248.0, 380.0)      1\n",
       "        (271.0, 403.0)      1\n",
       " 136.0  (120.0, 256.0)      1\n",
       " 140.0  (158.0, 298.0)      1\n",
       "        (286.0, 426.0)      1\n",
       " 146.0  (140.0, 286.0)      1\n",
       " 148.0  (237.0, 385.0)      1\n",
       "        (298.0, 446.0)      1\n",
       " 152.0  (307.0, 459.0)      1\n",
       " 154.0  (99.0, 253.0)       1\n",
       "Name: tmp1, Length: 17368, dtype: int64"
      ]
     },
     "execution_count": 280,
     "metadata": {},
     "output_type": "execute_result"
    }
   ],
   "source": [
    "distrs"
   ]
  },
  {
   "cell_type": "code",
   "execution_count": null,
   "metadata": {},
   "outputs": [],
   "source": []
  },
  {
   "cell_type": "code",
   "execution_count": null,
   "metadata": {},
   "outputs": [],
   "source": []
  }
 ],
 "metadata": {
  "kernelspec": {
   "display_name": "Python 3",
   "language": "python",
   "name": "python3"
  },
  "language_info": {
   "codemirror_mode": {
    "name": "ipython",
    "version": 3
   },
   "file_extension": ".py",
   "mimetype": "text/x-python",
   "name": "python",
   "nbconvert_exporter": "python",
   "pygments_lexer": "ipython3",
   "version": "3.7.1"
  }
 },
 "nbformat": 4,
 "nbformat_minor": 2
}
